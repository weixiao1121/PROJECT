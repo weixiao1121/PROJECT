{
 "cells": [
  {
   "cell_type": "code",
   "execution_count": 1,
   "metadata": {},
   "outputs": [
    {
     "ename": "ModuleNotFoundError",
     "evalue": "No module named 'geopandas'",
     "output_type": "error",
     "traceback": [
      "\u001b[0;31m---------------------------------------------------------------------------\u001b[0m",
      "\u001b[0;31mModuleNotFoundError\u001b[0m                       Traceback (most recent call last)",
      "\u001b[0;32m<ipython-input-1-f8b81fe8ca07>\u001b[0m in \u001b[0;36m<module>\u001b[0;34m()\u001b[0m\n\u001b[0;32m----> 1\u001b[0;31m \u001b[0;32mimport\u001b[0m \u001b[0mgeopandas\u001b[0m \u001b[0;32mas\u001b[0m \u001b[0mgpd\u001b[0m\u001b[0;34m\u001b[0m\u001b[0m\n\u001b[0m",
      "\u001b[0;31mModuleNotFoundError\u001b[0m: No module named 'geopandas'"
     ]
    }
   ],
   "source": [
    "import geopandas as gpd"
   ]
  },
  {
   "cell_type": "code",
   "execution_count": 25,
   "metadata": {},
   "outputs": [
    {
     "name": "stdout",
     "output_type": "stream",
     "text": [
      "Collecting git+git://github.com/geopandas/geopandas.git\n",
      "  Cloning git://github.com/geopandas/geopandas.git to /private/var/folders/9n/m6j97b512m5bny4dpz7xkw000000gn/T/pip-xrsz8gxv-build\n",
      "  Requirement already satisfied (use --upgrade to upgrade): geopandas==0.3.0+48.ga577b12 from git+git://github.com/geopandas/geopandas.git in /Users/weixiao/anaconda3/lib/python3.6/site-packages\n",
      "Requirement already satisfied: pandas in /Users/weixiao/anaconda3/lib/python3.6/site-packages (from geopandas==0.3.0+48.ga577b12)\n",
      "Requirement already satisfied: shapely in /Users/weixiao/anaconda3/lib/python3.6/site-packages (from geopandas==0.3.0+48.ga577b12)\n",
      "Requirement already satisfied: fiona in /Users/weixiao/anaconda3/lib/python3.6/site-packages (from geopandas==0.3.0+48.ga577b12)\n",
      "Requirement already satisfied: pyproj in /Users/weixiao/anaconda3/lib/python3.6/site-packages (from geopandas==0.3.0+48.ga577b12)\n",
      "Requirement already satisfied: python-dateutil>=2 in /Users/weixiao/anaconda3/lib/python3.6/site-packages (from pandas->geopandas==0.3.0+48.ga577b12)\n",
      "Requirement already satisfied: pytz>=2011k in /Users/weixiao/anaconda3/lib/python3.6/site-packages (from pandas->geopandas==0.3.0+48.ga577b12)\n",
      "Requirement already satisfied: numpy>=1.9.0 in /Users/weixiao/anaconda3/lib/python3.6/site-packages (from pandas->geopandas==0.3.0+48.ga577b12)\n",
      "Requirement already satisfied: six in /Users/weixiao/anaconda3/lib/python3.6/site-packages (from fiona->geopandas==0.3.0+48.ga577b12)\n",
      "Requirement already satisfied: munch in /Users/weixiao/anaconda3/lib/python3.6/site-packages (from fiona->geopandas==0.3.0+48.ga577b12)\n",
      "Requirement already satisfied: click-plugins in /Users/weixiao/anaconda3/lib/python3.6/site-packages (from fiona->geopandas==0.3.0+48.ga577b12)\n",
      "Requirement already satisfied: cligj in /Users/weixiao/anaconda3/lib/python3.6/site-packages (from fiona->geopandas==0.3.0+48.ga577b12)\n",
      "Requirement already satisfied: click>=3.0 in /Users/weixiao/anaconda3/lib/python3.6/site-packages (from click-plugins->fiona->geopandas==0.3.0+48.ga577b12)\n"
     ]
    }
   ],
   "source": [
    "!pip install git+git://github.com/geopandas/geopandas.git"
   ]
  },
  {
   "cell_type": "code",
   "execution_count": 26,
   "metadata": {
    "collapsed": true
   },
   "outputs": [],
   "source": [
    "import geopandas as gpd"
   ]
  },
  {
   "cell_type": "code",
   "execution_count": 27,
   "metadata": {
    "collapsed": true
   },
   "outputs": [],
   "source": [
    "import pandas as pd"
   ]
  },
  {
   "cell_type": "code",
   "execution_count": 28,
   "metadata": {
    "collapsed": true
   },
   "outputs": [],
   "source": [
    "MWKMap='https://itmdapps.milwaukee.gov/gis/mapdata/land_use_shp.zip'"
   ]
  },
  {
   "cell_type": "code",
   "execution_count": 29,
   "metadata": {
    "collapsed": true
   },
   "outputs": [],
   "source": [
    "mwklanduseMap=gpd.GeoDataFrame.from_file(MWKMap)"
   ]
  },
  {
   "cell_type": "code",
   "execution_count": 30,
   "metadata": {},
   "outputs": [
    {
     "data": {
      "text/html": [
       "<div>\n",
       "<style scoped>\n",
       "    .dataframe tbody tr th:only-of-type {\n",
       "        vertical-align: middle;\n",
       "    }\n",
       "\n",
       "    .dataframe tbody tr th {\n",
       "        vertical-align: top;\n",
       "    }\n",
       "\n",
       "    .dataframe thead th {\n",
       "        text-align: right;\n",
       "    }\n",
       "</style>\n",
       "<table border=\"1\" class=\"dataframe\">\n",
       "  <thead>\n",
       "    <tr style=\"text-align: right;\">\n",
       "      <th></th>\n",
       "      <th>LEVEL_</th>\n",
       "      <th>GIS_DATETI</th>\n",
       "      <th>SHAPE_LEN</th>\n",
       "      <th>geometry</th>\n",
       "    </tr>\n",
       "  </thead>\n",
       "  <tbody>\n",
       "    <tr>\n",
       "      <th>0</th>\n",
       "      <td>36</td>\n",
       "      <td>2018-02-02</td>\n",
       "      <td>100.327901</td>\n",
       "      <td>LINESTRING (2560860.530625001 360539.818749994...</td>\n",
       "    </tr>\n",
       "    <tr>\n",
       "      <th>1</th>\n",
       "      <td>36</td>\n",
       "      <td>2018-02-02</td>\n",
       "      <td>21.298779</td>\n",
       "      <td>LINESTRING (2560876.139375001 360525.048124998...</td>\n",
       "    </tr>\n",
       "    <tr>\n",
       "      <th>2</th>\n",
       "      <td>36</td>\n",
       "      <td>2018-02-02</td>\n",
       "      <td>100.308616</td>\n",
       "      <td>LINESTRING (2560816.408124998 360504.101875007...</td>\n",
       "    </tr>\n",
       "    <tr>\n",
       "      <th>3</th>\n",
       "      <td>36</td>\n",
       "      <td>2018-02-02</td>\n",
       "      <td>21.293780</td>\n",
       "      <td>LINESTRING (2560832.013750002 360489.334999993...</td>\n",
       "    </tr>\n",
       "    <tr>\n",
       "      <th>4</th>\n",
       "      <td>36</td>\n",
       "      <td>2018-02-02</td>\n",
       "      <td>100.296762</td>\n",
       "      <td>LINESTRING (2560759.405000001 360537.010000005...</td>\n",
       "    </tr>\n",
       "  </tbody>\n",
       "</table>\n",
       "</div>"
      ],
      "text/plain": [
       "   LEVEL_  GIS_DATETI   SHAPE_LEN  \\\n",
       "0      36  2018-02-02  100.327901   \n",
       "1      36  2018-02-02   21.298779   \n",
       "2      36  2018-02-02  100.308616   \n",
       "3      36  2018-02-02   21.293780   \n",
       "4      36  2018-02-02  100.296762   \n",
       "\n",
       "                                            geometry  \n",
       "0  LINESTRING (2560860.530625001 360539.818749994...  \n",
       "1  LINESTRING (2560876.139375001 360525.048124998...  \n",
       "2  LINESTRING (2560816.408124998 360504.101875007...  \n",
       "3  LINESTRING (2560832.013750002 360489.334999993...  \n",
       "4  LINESTRING (2560759.405000001 360537.010000005...  "
      ]
     },
     "execution_count": 30,
     "metadata": {},
     "output_type": "execute_result"
    }
   ],
   "source": [
    "mwklanduseMap.head()"
   ]
  },
  {
   "cell_type": "code",
   "execution_count": null,
   "metadata": {
    "collapsed": true
   },
   "outputs": [],
   "source": []
  },
  {
   "cell_type": "code",
   "execution_count": null,
   "metadata": {
    "collapsed": true
   },
   "outputs": [],
   "source": []
  }
 ],
 "metadata": {
  "kernelspec": {
   "display_name": "Python 3",
   "language": "python",
   "name": "python3"
  },
  "language_info": {
   "codemirror_mode": {
    "name": "ipython",
    "version": 3
   },
   "file_extension": ".py",
   "mimetype": "text/x-python",
   "name": "python",
   "nbconvert_exporter": "python",
   "pygments_lexer": "ipython3",
   "version": "3.6.3"
  }
 },
 "nbformat": 4,
 "nbformat_minor": 2
}
