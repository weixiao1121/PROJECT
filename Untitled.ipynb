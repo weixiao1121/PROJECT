{
 "cells": [
  {
   "cell_type": "code",
   "execution_count": 5,
   "metadata": {},
   "outputs": [
    {
     "name": "stdout",
     "output_type": "stream",
     "text": [
      "['', '1997', '1996', '1995', '1994']\n",
      "['Net sales', ' $7,197 ', ' $5,406 ', ' $3,597 ', ' $2,412 ']\n",
      "['COGS', ' 6,045 ', ' 4,536 ', ' 2,988 ', ' 1,977 ']\n",
      "['Gross Profit', '1,152', '870', '609', '435']\n",
      "[' Operating, selling andadministrative expense', ' 1,005 ', ' 753 ', ' 501 ', ' 334 ']\n",
      "['Interest expense', ' 3 ', ' 3 ', ' 3 ', ' 2 ']\n",
      "['Purchase discounts taken', ' (18)', ' (21)', ' (24)', ' (15)']\n",
      "['Profit before taxes', ' 1,167 ', ' 888 ', ' 630 ', ' 448 ']\n",
      "['Income taxes', ' 72 ', ' 60 ', ' 57 ', ' 48 ']\n",
      "['Profit after taxes', ' 90 ', ' 75 ', ' 72 ', ' 66 ']\n",
      "['Dividends', ' 45 ', ' 37 ', ' 36 ', ' 33 ']\n",
      "['Purchases', ' $6,191 ', ' $4,678 ', ' $3,096 ', ' $2,190 ']\n"
     ]
    }
   ],
   "source": [
    "import csv\n",
    "with open ('DATA.csv') as csvDataFile:\n",
    "    csvReader = csv.reader(csvDataFile)\n",
    "    for row in csvReader:\n",
    "        print(row)"
   ]
  },
  {
   "cell_type": "code",
   "execution_count": null,
   "metadata": {
    "collapsed": true
   },
   "outputs": [],
   "source": []
  },
  {
   "cell_type": "code",
   "execution_count": null,
   "metadata": {
    "collapsed": true
   },
   "outputs": [],
   "source": []
  }
 ],
 "metadata": {
  "kernelspec": {
   "display_name": "Python 3",
   "language": "python",
   "name": "python3"
  },
  "language_info": {
   "codemirror_mode": {
    "name": "ipython",
    "version": 3
   },
   "file_extension": ".py",
   "mimetype": "text/x-python",
   "name": "python",
   "nbconvert_exporter": "python",
   "pygments_lexer": "ipython3",
   "version": "3.6.3"
  }
 },
 "nbformat": 4,
 "nbformat_minor": 2
}
