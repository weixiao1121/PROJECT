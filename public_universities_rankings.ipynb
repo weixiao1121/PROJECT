{
 "cells": [
  {
   "cell_type": "markdown",
   "metadata": {},
   "source": [
    "Import Data"
   ]
  },
  {
   "cell_type": "code",
   "execution_count": 2,
   "metadata": {
    "collapsed": true,
    "scrolled": true
   },
   "outputs": [],
   "source": [
    "%matplotlib inline\n",
    "import csv\n",
    "import pandas as pd\n",
    "from scipy.stats import pearsonr"
   ]
  },
  {
   "cell_type": "code",
   "execution_count": 3,
   "metadata": {
    "collapsed": true
   },
   "outputs": [],
   "source": [
    "name = []\n",
    "location = []\n",
    "with open ('public_universities_rankings.csv') as csvDataFile:\n",
    "    csvReader = csv.reader(csvDataFile)\n",
    "    for row in csvReader:\n",
    "        name.append(row[0])\n",
    "        location.append(row[2])\n",
    "        \n",
    "public_universities_rankings = pd.read_csv('public_universities_rankings.csv') "
   ]
  },
  {
   "cell_type": "markdown",
   "metadata": {},
   "source": [
    "To see the basic layout of the variable."
   ]
  },
  {
   "cell_type": "code",
   "execution_count": 3,
   "metadata": {
    "collapsed": false
   },
   "outputs": [
    {
     "data": {
      "text/html": [
       "<div>\n",
       "<style scoped>\n",
       "    .dataframe tbody tr th:only-of-type {\n",
       "        vertical-align: middle;\n",
       "    }\n",
       "\n",
       "    .dataframe tbody tr th {\n",
       "        vertical-align: top;\n",
       "    }\n",
       "\n",
       "    .dataframe thead th {\n",
       "        text-align: right;\n",
       "    }\n",
       "</style>\n",
       "<table border=\"1\" class=\"dataframe\">\n",
       "  <thead>\n",
       "    <tr style=\"text-align: right;\">\n",
       "      <th></th>\n",
       "      <th>name</th>\n",
       "      <th>location</th>\n",
       "      <th>rank</th>\n",
       "      <th>description</th>\n",
       "      <th>tuition_and_fees</th>\n",
       "      <th>in_state</th>\n",
       "      <th>undergrad_enrollment</th>\n",
       "    </tr>\n",
       "  </thead>\n",
       "  <tbody>\n",
       "    <tr>\n",
       "      <th>0</th>\n",
       "      <td>University of California--Berkeley</td>\n",
       "      <td>Berkeley, CA</td>\n",
       "      <td>20</td>\n",
       "      <td>The University of California--Berkeley, often ...</td>\n",
       "      <td>40.191</td>\n",
       "      <td>13.509</td>\n",
       "      <td>27496</td>\n",
       "    </tr>\n",
       "    <tr>\n",
       "      <th>1</th>\n",
       "      <td>University of California--Los Angeles</td>\n",
       "      <td>Los Angeles, CA</td>\n",
       "      <td>24</td>\n",
       "      <td>The University of California--Los Angeles, com...</td>\n",
       "      <td>39.518</td>\n",
       "      <td>12.836</td>\n",
       "      <td>29585</td>\n",
       "    </tr>\n",
       "    <tr>\n",
       "      <th>2</th>\n",
       "      <td>University of Virginia</td>\n",
       "      <td>Charlottesville, VA</td>\n",
       "      <td>24</td>\n",
       "      <td>Founded by Thomas Jefferson, the University of...</td>\n",
       "      <td>45.066</td>\n",
       "      <td>15.722</td>\n",
       "      <td>16736</td>\n",
       "    </tr>\n",
       "    <tr>\n",
       "      <th>3</th>\n",
       "      <td>University of Michigan--Ann Arbor</td>\n",
       "      <td>Ann Arbor, MI</td>\n",
       "      <td>27</td>\n",
       "      <td>The University of Michigan boasts one of the b...</td>\n",
       "      <td>43.476</td>\n",
       "      <td>13.856</td>\n",
       "      <td>28312</td>\n",
       "    </tr>\n",
       "    <tr>\n",
       "      <th>4</th>\n",
       "      <td>University of North Carolina--Chapel Hill</td>\n",
       "      <td>Chapel Hill, NC</td>\n",
       "      <td>30</td>\n",
       "      <td>The University of North Carolina--Chapel Hill,...</td>\n",
       "      <td>33.916</td>\n",
       "      <td>8.834</td>\n",
       "      <td>18415</td>\n",
       "    </tr>\n",
       "  </tbody>\n",
       "</table>\n",
       "</div>"
      ],
      "text/plain": [
       "                                        name             location  rank  \\\n",
       "0         University of California--Berkeley         Berkeley, CA    20   \n",
       "1      University of California--Los Angeles      Los Angeles, CA    24   \n",
       "2                     University of Virginia  Charlottesville, VA    24   \n",
       "3          University of Michigan--Ann Arbor        Ann Arbor, MI    27   \n",
       "4  University of North Carolina--Chapel Hill      Chapel Hill, NC    30   \n",
       "\n",
       "                                         description  tuition_and_fees  \\\n",
       "0  The University of California--Berkeley, often ...            40.191   \n",
       "1  The University of California--Los Angeles, com...            39.518   \n",
       "2  Founded by Thomas Jefferson, the University of...            45.066   \n",
       "3  The University of Michigan boasts one of the b...            43.476   \n",
       "4  The University of North Carolina--Chapel Hill,...            33.916   \n",
       "\n",
       "   in_state  undergrad_enrollment  \n",
       "0    13.509                 27496  \n",
       "1    12.836                 29585  \n",
       "2    15.722                 16736  \n",
       "3    13.856                 28312  \n",
       "4     8.834                 18415  "
      ]
     },
     "execution_count": 3,
     "metadata": {},
     "output_type": "execute_result"
    }
   ],
   "source": [
    "public_universities_rankings.head()"
   ]
  },
  {
   "cell_type": "code",
   "execution_count": 4,
   "metadata": {
    "collapsed": false
   },
   "outputs": [
    {
     "data": {
      "text/plain": [
       "0    26.682\n",
       "1    26.682\n",
       "2    29.344\n",
       "3    29.620\n",
       "4    25.082\n",
       "Name: tuition_difference, dtype: float64"
      ]
     },
     "execution_count": 4,
     "metadata": {},
     "output_type": "execute_result"
    }
   ],
   "source": [
    "public_universities_rankings['tuition_difference'] = public_universities_rankings.tuition_and_fees-public_universities_rankings.in_state\n",
    "public_universities_rankings.head()\n",
    "public_universities_rankings.tuition_difference.head()"
   ]
  },
  {
   "cell_type": "markdown",
   "metadata": {},
   "source": [
    "The following cell will eliminate the city but only keep the state for mapping purpose"
   ]
  },
  {
   "cell_type": "code",
   "execution_count": 5,
   "metadata": {
    "collapsed": false
   },
   "outputs": [
    {
     "data": {
      "text/html": [
       "<div>\n",
       "<style scoped>\n",
       "    .dataframe tbody tr th:only-of-type {\n",
       "        vertical-align: middle;\n",
       "    }\n",
       "\n",
       "    .dataframe tbody tr th {\n",
       "        vertical-align: top;\n",
       "    }\n",
       "\n",
       "    .dataframe thead th {\n",
       "        text-align: right;\n",
       "    }\n",
       "</style>\n",
       "<table border=\"1\" class=\"dataframe\">\n",
       "  <thead>\n",
       "    <tr style=\"text-align: right;\">\n",
       "      <th></th>\n",
       "      <th>name</th>\n",
       "      <th>location</th>\n",
       "      <th>rank</th>\n",
       "      <th>description</th>\n",
       "      <th>tuition_and_fees</th>\n",
       "      <th>in_state</th>\n",
       "      <th>undergrad_enrollment</th>\n",
       "      <th>tuition_difference</th>\n",
       "    </tr>\n",
       "  </thead>\n",
       "  <tbody>\n",
       "    <tr>\n",
       "      <th>0</th>\n",
       "      <td>University of California--Berkeley</td>\n",
       "      <td>CA</td>\n",
       "      <td>20</td>\n",
       "      <td>The University of California--Berkeley, often ...</td>\n",
       "      <td>40.191</td>\n",
       "      <td>13.509</td>\n",
       "      <td>27496</td>\n",
       "      <td>26.682</td>\n",
       "    </tr>\n",
       "    <tr>\n",
       "      <th>1</th>\n",
       "      <td>University of California--Los Angeles</td>\n",
       "      <td>CA</td>\n",
       "      <td>24</td>\n",
       "      <td>The University of California--Los Angeles, com...</td>\n",
       "      <td>39.518</td>\n",
       "      <td>12.836</td>\n",
       "      <td>29585</td>\n",
       "      <td>26.682</td>\n",
       "    </tr>\n",
       "    <tr>\n",
       "      <th>2</th>\n",
       "      <td>University of Virginia</td>\n",
       "      <td>VA</td>\n",
       "      <td>24</td>\n",
       "      <td>Founded by Thomas Jefferson, the University of...</td>\n",
       "      <td>45.066</td>\n",
       "      <td>15.722</td>\n",
       "      <td>16736</td>\n",
       "      <td>29.344</td>\n",
       "    </tr>\n",
       "    <tr>\n",
       "      <th>3</th>\n",
       "      <td>University of Michigan--Ann Arbor</td>\n",
       "      <td>MI</td>\n",
       "      <td>27</td>\n",
       "      <td>The University of Michigan boasts one of the b...</td>\n",
       "      <td>43.476</td>\n",
       "      <td>13.856</td>\n",
       "      <td>28312</td>\n",
       "      <td>29.620</td>\n",
       "    </tr>\n",
       "    <tr>\n",
       "      <th>4</th>\n",
       "      <td>University of North Carolina--Chapel Hill</td>\n",
       "      <td>NC</td>\n",
       "      <td>30</td>\n",
       "      <td>The University of North Carolina--Chapel Hill,...</td>\n",
       "      <td>33.916</td>\n",
       "      <td>8.834</td>\n",
       "      <td>18415</td>\n",
       "      <td>25.082</td>\n",
       "    </tr>\n",
       "  </tbody>\n",
       "</table>\n",
       "</div>"
      ],
      "text/plain": [
       "                                        name location  rank  \\\n",
       "0         University of California--Berkeley       CA    20   \n",
       "1      University of California--Los Angeles       CA    24   \n",
       "2                     University of Virginia       VA    24   \n",
       "3          University of Michigan--Ann Arbor       MI    27   \n",
       "4  University of North Carolina--Chapel Hill       NC    30   \n",
       "\n",
       "                                         description  tuition_and_fees  \\\n",
       "0  The University of California--Berkeley, often ...            40.191   \n",
       "1  The University of California--Los Angeles, com...            39.518   \n",
       "2  Founded by Thomas Jefferson, the University of...            45.066   \n",
       "3  The University of Michigan boasts one of the b...            43.476   \n",
       "4  The University of North Carolina--Chapel Hill,...            33.916   \n",
       "\n",
       "   in_state  undergrad_enrollment  tuition_difference  \n",
       "0    13.509                 27496              26.682  \n",
       "1    12.836                 29585              26.682  \n",
       "2    15.722                 16736              29.344  \n",
       "3    13.856                 28312              29.620  \n",
       "4     8.834                 18415              25.082  "
      ]
     },
     "execution_count": 5,
     "metadata": {},
     "output_type": "execute_result"
    }
   ],
   "source": [
    "for index, row in public_universities_rankings.iterrows():\n",
    "    state = row.location.split(',')[1][1:3] #position 0 is a space\n",
    "    public_universities_rankings.loc[index, \"location\"] = state\n",
    "    \n",
    "    \n",
    "public_universities_rankings.head()"
   ]
  },
  {
   "cell_type": "code",
   "execution_count": 6,
   "metadata": {
    "collapsed": false
   },
   "outputs": [
    {
     "data": {
      "text/plain": [
       "Power_divergenceResult(statistic=0.9857142857142855, pvalue=1.0)"
      ]
     },
     "execution_count": 6,
     "metadata": {},
     "output_type": "execute_result"
    }
   ],
   "source": [
    "# To do a chisquare test\n",
    "from scipy.stats import chisquare\n",
    "distribution=public_universities_rankings['tuition_and_fees'].value_counts()\n",
    "chisquare(distribution)"
   ]
  },
  {
   "cell_type": "markdown",
   "metadata": {},
   "source": [
    "P-value=1.0 means that the differences are significant"
   ]
  },
  {
   "cell_type": "code",
   "execution_count": 7,
   "metadata": {
    "collapsed": true
   },
   "outputs": [],
   "source": [
    "import numpy as np\n",
    "symbolsForNA=['†']\n",
    "public_universities_rankings.replace(symbolsForNA,np.nan,inplace=True)"
   ]
  },
  {
   "cell_type": "markdown",
   "metadata": {},
   "source": [
    "To know the frequency of 'tuition_and_fees'"
   ]
  },
  {
   "cell_type": "code",
   "execution_count": 8,
   "metadata": {
    "collapsed": false,
    "scrolled": true
   },
   "outputs": [
    {
     "data": {
      "text/plain": [
       "26.334    2\n",
       "18.899    1\n",
       "29.850    1\n",
       "30.025    1\n",
       "16.094    1\n",
       "23.429    1\n",
       "28.840    1\n",
       "11.688    1\n",
       "21.234    1\n",
       "20.318    1\n",
       "32.382    1\n",
       "17.620    1\n",
       "27.005    1\n",
       "21.451    1\n",
       "20.193    1\n",
       "25.994    1\n",
       "27.039    1\n",
       "40.263    1\n",
       "25.713    1\n",
       "22.904    1\n",
       "34.246    1\n",
       "11.403    1\n",
       "29.229    1\n",
       "32.738    1\n",
       "24.673    1\n",
       "41.718    1\n",
       "26.266    1\n",
       "18.376    1\n",
       "21.052    1\n",
       "41.387    1\n",
       "         ..\n",
       "33.654    1\n",
       "23.042    1\n",
       "26.152    1\n",
       "16.215    1\n",
       "33.764    1\n",
       "25.851    1\n",
       "21.432    1\n",
       "21.595    1\n",
       "21.208    1\n",
       "29.791    1\n",
       "27.028    1\n",
       "29.371    1\n",
       "27.130    1\n",
       "31.592    1\n",
       "34.828    1\n",
       "26.180    1\n",
       "40.191    1\n",
       "31.320    1\n",
       "35.858    1\n",
       "24.800    1\n",
       "22.467    1\n",
       "28.846    1\n",
       "26.950    1\n",
       "25.673    1\n",
       "26.399    1\n",
       "17.325    1\n",
       "28.768    1\n",
       "17.654    1\n",
       "22.244    1\n",
       "29.125    1\n",
       "Name: tuition_and_fees, Length: 139, dtype: int64"
      ]
     },
     "execution_count": 8,
     "metadata": {},
     "output_type": "execute_result"
    }
   ],
   "source": [
    "public_universities_rankings['tuition_and_fees'].value_counts()"
   ]
  },
  {
   "cell_type": "code",
   "execution_count": 9,
   "metadata": {
    "collapsed": true
   },
   "outputs": [],
   "source": [
    "from pandas.api.types import CategoricalDtype\n",
    "public_universities_rankings['location']=public_universities_rankings['location'].astype(CategoricalDtype(ordered=True))"
   ]
  },
  {
   "cell_type": "code",
   "execution_count": 10,
   "metadata": {
    "collapsed": false
   },
   "outputs": [
    {
     "data": {
      "text/plain": [
       "Index(['AK', 'AL', 'AR', 'AZ', 'CA', 'CO', 'CT', 'DE', 'FL', 'GA', 'HI', 'IA',\n",
       "       'ID', 'IL', 'IN', 'KS', 'KY', 'LA', 'MA', 'MD', 'ME', 'MI', 'MN', 'MO',\n",
       "       'MS', 'MT', 'NC', 'ND', 'NE', 'NH', 'NJ', 'NM', 'NV', 'NY', 'OH', 'OK',\n",
       "       'OR', 'PA', 'RI', 'SC', 'SD', 'TN', 'TX', 'UT', 'VA', 'VT', 'WA', 'WI',\n",
       "       'WV', 'WY'],\n",
       "      dtype='object')"
      ]
     },
     "execution_count": 10,
     "metadata": {},
     "output_type": "execute_result"
    }
   ],
   "source": [
    "public_universities_rankings['location'].cat.categories"
   ]
  },
  {
   "cell_type": "code",
   "execution_count": 11,
   "metadata": {
    "collapsed": false
   },
   "outputs": [
    {
     "data": {
      "text/html": [
       "<div>\n",
       "<style scoped>\n",
       "    .dataframe tbody tr th:only-of-type {\n",
       "        vertical-align: middle;\n",
       "    }\n",
       "\n",
       "    .dataframe tbody tr th {\n",
       "        vertical-align: top;\n",
       "    }\n",
       "\n",
       "    .dataframe thead th {\n",
       "        text-align: right;\n",
       "    }\n",
       "</style>\n",
       "<table border=\"1\" class=\"dataframe\">\n",
       "  <thead>\n",
       "    <tr style=\"text-align: right;\">\n",
       "      <th></th>\n",
       "      <th>rank</th>\n",
       "      <th>tuition_and_fees</th>\n",
       "      <th>in_state</th>\n",
       "      <th>undergrad_enrollment</th>\n",
       "      <th>tuition_difference</th>\n",
       "    </tr>\n",
       "  </thead>\n",
       "  <tbody>\n",
       "    <tr>\n",
       "      <th>count</th>\n",
       "      <td>140.000000</td>\n",
       "      <td>140.000000</td>\n",
       "      <td>133.000000</td>\n",
       "      <td>140.000000</td>\n",
       "      <td>133.000000</td>\n",
       "    </tr>\n",
       "    <tr>\n",
       "      <th>mean</th>\n",
       "      <td>135.928571</td>\n",
       "      <td>27.404257</td>\n",
       "      <td>10.895714</td>\n",
       "      <td>19990.328571</td>\n",
       "      <td>16.497308</td>\n",
       "    </tr>\n",
       "    <tr>\n",
       "      <th>std</th>\n",
       "      <td>60.385529</td>\n",
       "      <td>6.734391</td>\n",
       "      <td>3.038571</td>\n",
       "      <td>10207.112126</td>\n",
       "      <td>5.316482</td>\n",
       "    </tr>\n",
       "    <tr>\n",
       "      <th>min</th>\n",
       "      <td>20.000000</td>\n",
       "      <td>11.403000</td>\n",
       "      <td>4.965000</td>\n",
       "      <td>1520.000000</td>\n",
       "      <td>3.231000</td>\n",
       "    </tr>\n",
       "    <tr>\n",
       "      <th>25%</th>\n",
       "      <td>85.000000</td>\n",
       "      <td>22.235500</td>\n",
       "      <td>8.820000</td>\n",
       "      <td>12938.750000</td>\n",
       "      <td>13.386000</td>\n",
       "    </tr>\n",
       "    <tr>\n",
       "      <th>50%</th>\n",
       "      <td>139.000000</td>\n",
       "      <td>26.462500</td>\n",
       "      <td>10.622000</td>\n",
       "      <td>19552.000000</td>\n",
       "      <td>15.958000</td>\n",
       "    </tr>\n",
       "    <tr>\n",
       "      <th>75%</th>\n",
       "      <td>194.750000</td>\n",
       "      <td>31.421000</td>\n",
       "      <td>13.296000</td>\n",
       "      <td>25577.000000</td>\n",
       "      <td>18.930000</td>\n",
       "    </tr>\n",
       "    <tr>\n",
       "      <th>max</th>\n",
       "      <td>220.000000</td>\n",
       "      <td>45.066000</td>\n",
       "      <td>18.687000</td>\n",
       "      <td>54513.000000</td>\n",
       "      <td>29.620000</td>\n",
       "    </tr>\n",
       "  </tbody>\n",
       "</table>\n",
       "</div>"
      ],
      "text/plain": [
       "             rank  tuition_and_fees    in_state  undergrad_enrollment  \\\n",
       "count  140.000000        140.000000  133.000000            140.000000   \n",
       "mean   135.928571         27.404257   10.895714          19990.328571   \n",
       "std     60.385529          6.734391    3.038571          10207.112126   \n",
       "min     20.000000         11.403000    4.965000           1520.000000   \n",
       "25%     85.000000         22.235500    8.820000          12938.750000   \n",
       "50%    139.000000         26.462500   10.622000          19552.000000   \n",
       "75%    194.750000         31.421000   13.296000          25577.000000   \n",
       "max    220.000000         45.066000   18.687000          54513.000000   \n",
       "\n",
       "       tuition_difference  \n",
       "count          133.000000  \n",
       "mean            16.497308  \n",
       "std              5.316482  \n",
       "min              3.231000  \n",
       "25%             13.386000  \n",
       "50%             15.958000  \n",
       "75%             18.930000  \n",
       "max             29.620000  "
      ]
     },
     "execution_count": 11,
     "metadata": {},
     "output_type": "execute_result"
    }
   ],
   "source": [
    "public_universities_rankings.describe()"
   ]
  },
  {
   "cell_type": "code",
   "execution_count": 21,
   "metadata": {
    "collapsed": false
   },
   "outputs": [
    {
     "data": {
      "text/plain": [
       "count    140.000000\n",
       "mean      27.404257\n",
       "std        6.734391\n",
       "min       11.403000\n",
       "25%       22.235500\n",
       "50%       26.462500\n",
       "75%       31.421000\n",
       "max       45.066000\n",
       "Name: tuition_and_fees, dtype: float64"
      ]
     },
     "execution_count": 21,
     "metadata": {},
     "output_type": "execute_result"
    }
   ],
   "source": [
    "public_universities_rankings.tuition_and_fees.describe()"
   ]
  },
  {
   "cell_type": "code",
   "execution_count": 22,
   "metadata": {
    "collapsed": false
   },
   "outputs": [
    {
     "data": {
      "text/plain": [
       "count    133.000000\n",
       "mean      16.497308\n",
       "std        5.316482\n",
       "min        3.231000\n",
       "25%       13.386000\n",
       "50%       15.958000\n",
       "75%       18.930000\n",
       "max       29.620000\n",
       "Name: tuition_difference, dtype: float64"
      ]
     },
     "execution_count": 22,
     "metadata": {},
     "output_type": "execute_result"
    }
   ],
   "source": [
    "public_universities_rankings.tuition_difference.describe()"
   ]
  },
  {
   "cell_type": "markdown",
   "metadata": {
    "collapsed": true
   },
   "source": [
    "To know which state has the highest tuition."
   ]
  },
  {
   "cell_type": "code",
   "execution_count": 25,
   "metadata": {
    "collapsed": false
   },
   "outputs": [
    {
     "name": "stdout",
     "output_type": "stream",
     "text": [
      "name                                    University of Michigan--Ann Arbor\n",
      "location                                                               MI\n",
      "rank                                                                   27\n",
      "description             The University of Michigan boasts one of the b...\n",
      "tuition_and_fees                                                   43.476\n",
      "in_state                                                           13.856\n",
      "undergrad_enrollment                                                28312\n",
      "tuition_difference                                                  29.62\n",
      "Name: 3, dtype: object\n"
     ]
    }
   ],
   "source": [
    "max_diff = max(public_universities_rankings.tuition_difference)\n",
    "\n",
    "for index, row in public_universities_rankings.iterrows():\n",
    "    if row.tuition_difference == max_diff:\n",
    "        print(row)\n",
    "        break"
   ]
  },
  {
   "cell_type": "markdown",
   "metadata": {},
   "source": [
    "\n",
    "## Regression: Enrollment VS In-State and Out-State Tuition\n",
    "---"
   ]
  },
  {
   "cell_type": "code",
   "execution_count": 5,
   "metadata": {
    "collapsed": false
   },
   "outputs": [
    {
     "data": {
      "text/html": [
       "<div>\n",
       "<style scoped>\n",
       "    .dataframe tbody tr th:only-of-type {\n",
       "        vertical-align: middle;\n",
       "    }\n",
       "\n",
       "    .dataframe tbody tr th {\n",
       "        vertical-align: top;\n",
       "    }\n",
       "\n",
       "    .dataframe thead th {\n",
       "        text-align: right;\n",
       "    }\n",
       "</style>\n",
       "<table border=\"1\" class=\"dataframe\">\n",
       "  <thead>\n",
       "    <tr style=\"text-align: right;\">\n",
       "      <th></th>\n",
       "      <th>name</th>\n",
       "      <th>location</th>\n",
       "      <th>rank</th>\n",
       "      <th>description</th>\n",
       "      <th>tuition_and_fees</th>\n",
       "      <th>in_state</th>\n",
       "      <th>undergrad_enrollment</th>\n",
       "    </tr>\n",
       "  </thead>\n",
       "  <tbody>\n",
       "    <tr>\n",
       "      <th>0</th>\n",
       "      <td>University of California--Berkeley</td>\n",
       "      <td>Berkeley, CA</td>\n",
       "      <td>20</td>\n",
       "      <td>The University of California--Berkeley, often ...</td>\n",
       "      <td>40.191</td>\n",
       "      <td>13.509</td>\n",
       "      <td>27496</td>\n",
       "    </tr>\n",
       "    <tr>\n",
       "      <th>1</th>\n",
       "      <td>University of California--Los Angeles</td>\n",
       "      <td>Los Angeles, CA</td>\n",
       "      <td>24</td>\n",
       "      <td>The University of California--Los Angeles, com...</td>\n",
       "      <td>39.518</td>\n",
       "      <td>12.836</td>\n",
       "      <td>29585</td>\n",
       "    </tr>\n",
       "    <tr>\n",
       "      <th>2</th>\n",
       "      <td>University of Virginia</td>\n",
       "      <td>Charlottesville, VA</td>\n",
       "      <td>24</td>\n",
       "      <td>Founded by Thomas Jefferson, the University of...</td>\n",
       "      <td>45.066</td>\n",
       "      <td>15.722</td>\n",
       "      <td>16736</td>\n",
       "    </tr>\n",
       "    <tr>\n",
       "      <th>3</th>\n",
       "      <td>University of Michigan--Ann Arbor</td>\n",
       "      <td>Ann Arbor, MI</td>\n",
       "      <td>27</td>\n",
       "      <td>The University of Michigan boasts one of the b...</td>\n",
       "      <td>43.476</td>\n",
       "      <td>13.856</td>\n",
       "      <td>28312</td>\n",
       "    </tr>\n",
       "    <tr>\n",
       "      <th>4</th>\n",
       "      <td>University of North Carolina--Chapel Hill</td>\n",
       "      <td>Chapel Hill, NC</td>\n",
       "      <td>30</td>\n",
       "      <td>The University of North Carolina--Chapel Hill,...</td>\n",
       "      <td>33.916</td>\n",
       "      <td>8.834</td>\n",
       "      <td>18415</td>\n",
       "    </tr>\n",
       "  </tbody>\n",
       "</table>\n",
       "</div>"
      ],
      "text/plain": [
       "                                        name             location  rank  \\\n",
       "0         University of California--Berkeley         Berkeley, CA    20   \n",
       "1      University of California--Los Angeles      Los Angeles, CA    24   \n",
       "2                     University of Virginia  Charlottesville, VA    24   \n",
       "3          University of Michigan--Ann Arbor        Ann Arbor, MI    27   \n",
       "4  University of North Carolina--Chapel Hill      Chapel Hill, NC    30   \n",
       "\n",
       "                                         description  tuition_and_fees  \\\n",
       "0  The University of California--Berkeley, often ...            40.191   \n",
       "1  The University of California--Los Angeles, com...            39.518   \n",
       "2  Founded by Thomas Jefferson, the University of...            45.066   \n",
       "3  The University of Michigan boasts one of the b...            43.476   \n",
       "4  The University of North Carolina--Chapel Hill,...            33.916   \n",
       "\n",
       "   in_state  undergrad_enrollment  \n",
       "0    13.509                 27496  \n",
       "1    12.836                 29585  \n",
       "2    15.722                 16736  \n",
       "3    13.856                 28312  \n",
       "4     8.834                 18415  "
      ]
     },
     "execution_count": 5,
     "metadata": {},
     "output_type": "execute_result"
    }
   ],
   "source": [
    "public_universities_rankings = pd.read_csv('public_universities_rankings.csv')\n",
    "public_universities_rankings = public_universities_rankings.dropna()\n",
    "public_universities_rankings.head()"
   ]
  },
  {
   "cell_type": "markdown",
   "metadata": {},
   "source": [
    "Let's set the features that we want to perform regression on. We have the following features:"
   ]
  },
  {
   "cell_type": "code",
   "execution_count": 4,
   "metadata": {
    "collapsed": false
   },
   "outputs": [
    {
     "name": "stdout",
     "output_type": "stream",
     "text": [
      "['name' 'location' 'rank' 'description' 'tuition_and_fees' 'in_state'\n",
      " 'undergrad_enrollment']\n"
     ]
    }
   ],
   "source": [
    "features = public_universities_rankings.columns.values\n",
    "print(features)"
   ]
  },
  {
   "cell_type": "code",
   "execution_count": 6,
   "metadata": {
    "collapsed": false
   },
   "outputs": [
    {
     "name": "stdout",
     "output_type": "stream",
     "text": [
      "Pearson 0.671599066022371  \t Is significant? True\n",
      "(0.671599066022371, 8.93548105683117e-19)\n"
     ]
    }
   ],
   "source": [
    "x = public_universities_rankings.in_state # In state tuition\n",
    "y = public_universities_rankings.tuition_and_fees # Out State tuition\n",
    "p = pearsonr(x,y)\n",
    "print('Pearson', p[0], ' \\t Is significant?',p[1]<0.05)\n",
    "print(p)"
   ]
  },
  {
   "cell_type": "code",
   "execution_count": 7,
   "metadata": {
    "collapsed": false
   },
   "outputs": [
    {
     "data": {
      "text/html": [
       "<table class=\"simpletable\">\n",
       "<caption>OLS Regression Results</caption>\n",
       "<tr>\n",
       "  <th>Dep. Variable:</th>    <td>undergrad_enrollment</td> <th>  R-squared:         </th> <td>   0.074</td>\n",
       "</tr>\n",
       "<tr>\n",
       "  <th>Model:</th>                     <td>OLS</td>         <th>  Adj. R-squared:    </th> <td>   0.060</td>\n",
       "</tr>\n",
       "<tr>\n",
       "  <th>Method:</th>               <td>Least Squares</td>    <th>  F-statistic:       </th> <td>   5.190</td>\n",
       "</tr>\n",
       "<tr>\n",
       "  <th>Date:</th>               <td>Thu, 15 Mar 2018</td>   <th>  Prob (F-statistic):</th>  <td>0.00678</td>\n",
       "</tr>\n",
       "<tr>\n",
       "  <th>Time:</th>                   <td>01:29:37</td>       <th>  Log-Likelihood:    </th> <td> -1403.7</td>\n",
       "</tr>\n",
       "<tr>\n",
       "  <th>No. Observations:</th>        <td>   133</td>        <th>  AIC:               </th> <td>   2813.</td>\n",
       "</tr>\n",
       "<tr>\n",
       "  <th>Df Residuals:</th>            <td>   130</td>        <th>  BIC:               </th> <td>   2822.</td>\n",
       "</tr>\n",
       "<tr>\n",
       "  <th>Df Model:</th>                <td>     2</td>        <th>                     </th>     <td> </td>   \n",
       "</tr>\n",
       "<tr>\n",
       "  <th>Covariance Type:</th>        <td>nonrobust</td>      <th>                     </th>     <td> </td>   \n",
       "</tr>\n",
       "</table>\n",
       "<table class=\"simpletable\">\n",
       "<tr>\n",
       "          <td></td>            <th>coef</th>     <th>std err</th>      <th>t</th>      <th>P>|t|</th>  <th>[0.025</th>    <th>0.975]</th>  \n",
       "</tr>\n",
       "<tr>\n",
       "  <th>Intercept</th>        <td> 1.698e+04</td> <td> 3505.918</td> <td>    4.843</td> <td> 0.000</td> <td>    1e+04</td> <td> 2.39e+04</td>\n",
       "</tr>\n",
       "<tr>\n",
       "  <th>tuition_and_fees</th> <td>  509.8780</td> <td>  160.716</td> <td>    3.173</td> <td> 0.002</td> <td>  191.920</td> <td>  827.836</td>\n",
       "</tr>\n",
       "<tr>\n",
       "  <th>in_state</th>         <td> -923.4927</td> <td>  362.680</td> <td>   -2.546</td> <td> 0.012</td> <td>-1641.012</td> <td> -205.974</td>\n",
       "</tr>\n",
       "</table>\n",
       "<table class=\"simpletable\">\n",
       "<tr>\n",
       "  <th>Omnibus:</th>       <td>12.991</td> <th>  Durbin-Watson:     </th> <td>   1.375</td>\n",
       "</tr>\n",
       "<tr>\n",
       "  <th>Prob(Omnibus):</th> <td> 0.002</td> <th>  Jarque-Bera (JB):  </th> <td>  13.827</td>\n",
       "</tr>\n",
       "<tr>\n",
       "  <th>Skew:</th>          <td> 0.709</td> <th>  Prob(JB):          </th> <td>0.000994</td>\n",
       "</tr>\n",
       "<tr>\n",
       "  <th>Kurtosis:</th>      <td> 3.697</td> <th>  Cond. No.          </th> <td>    131.</td>\n",
       "</tr>\n",
       "</table>"
      ],
      "text/plain": [
       "<class 'statsmodels.iolib.summary.Summary'>\n",
       "\"\"\"\n",
       "                             OLS Regression Results                             \n",
       "================================================================================\n",
       "Dep. Variable:     undergrad_enrollment   R-squared:                       0.074\n",
       "Model:                              OLS   Adj. R-squared:                  0.060\n",
       "Method:                   Least Squares   F-statistic:                     5.190\n",
       "Date:                  Thu, 15 Mar 2018   Prob (F-statistic):            0.00678\n",
       "Time:                          01:29:37   Log-Likelihood:                -1403.7\n",
       "No. Observations:                   133   AIC:                             2813.\n",
       "Df Residuals:                       130   BIC:                             2822.\n",
       "Df Model:                             2                                         \n",
       "Covariance Type:              nonrobust                                         \n",
       "====================================================================================\n",
       "                       coef    std err          t      P>|t|      [0.025      0.975]\n",
       "------------------------------------------------------------------------------------\n",
       "Intercept         1.698e+04   3505.918      4.843      0.000       1e+04    2.39e+04\n",
       "tuition_and_fees   509.8780    160.716      3.173      0.002     191.920     827.836\n",
       "in_state          -923.4927    362.680     -2.546      0.012   -1641.012    -205.974\n",
       "==============================================================================\n",
       "Omnibus:                       12.991   Durbin-Watson:                   1.375\n",
       "Prob(Omnibus):                  0.002   Jarque-Bera (JB):               13.827\n",
       "Skew:                           0.709   Prob(JB):                     0.000994\n",
       "Kurtosis:                       3.697   Cond. No.                         131.\n",
       "==============================================================================\n",
       "\n",
       "Warnings:\n",
       "[1] Standard Errors assume that the covariance matrix of the errors is correctly specified.\n",
       "\"\"\""
      ]
     },
     "execution_count": 7,
     "metadata": {},
     "output_type": "execute_result"
    }
   ],
   "source": [
    "import statsmodels.formula.api as smf\n",
    "\n",
    "formula='undergrad_enrollment ~ tuition_and_fees + in_state'\n",
    "LinRegEPI = smf.ols(formula, data=public_universities_rankings).fit()\n",
    "LinRegEPI.summary()"
   ]
  },
  {
   "cell_type": "markdown",
   "metadata": {},
   "source": [
    "From the regression results we can see that the undergraduate enrollment is positively correlated with out-state tuition but negatively correlated with in-state tuition (with both P-value<0.05). "
   ]
  },
  {
   "cell_type": "markdown",
   "metadata": {},
   "source": [
    "# Choropleth Mapping\n",
    "---"
   ]
  },
  {
   "cell_type": "markdown",
   "metadata": {},
   "source": [
    "To create a choropleth map of all the public universities of interest, we would need another dataset that only has location and tuition information."
   ]
  },
  {
   "cell_type": "code",
   "execution_count": 12,
   "metadata": {
    "collapsed": false
   },
   "outputs": [
    {
     "data": {
      "text/html": [
       "<div>\n",
       "<style scoped>\n",
       "    .dataframe tbody tr th:only-of-type {\n",
       "        vertical-align: middle;\n",
       "    }\n",
       "\n",
       "    .dataframe tbody tr th {\n",
       "        vertical-align: top;\n",
       "    }\n",
       "\n",
       "    .dataframe thead th {\n",
       "        text-align: right;\n",
       "    }\n",
       "</style>\n",
       "<table border=\"1\" class=\"dataframe\">\n",
       "  <thead>\n",
       "    <tr style=\"text-align: right;\">\n",
       "      <th></th>\n",
       "      <th>location</th>\n",
       "      <th>tuition_and_fees</th>\n",
       "    </tr>\n",
       "  </thead>\n",
       "  <tbody>\n",
       "    <tr>\n",
       "      <th>0</th>\n",
       "      <td>CA</td>\n",
       "      <td>40.191</td>\n",
       "    </tr>\n",
       "    <tr>\n",
       "      <th>1</th>\n",
       "      <td>CA</td>\n",
       "      <td>39.518</td>\n",
       "    </tr>\n",
       "    <tr>\n",
       "      <th>2</th>\n",
       "      <td>VA</td>\n",
       "      <td>45.066</td>\n",
       "    </tr>\n",
       "    <tr>\n",
       "      <th>3</th>\n",
       "      <td>MI</td>\n",
       "      <td>43.476</td>\n",
       "    </tr>\n",
       "    <tr>\n",
       "      <th>4</th>\n",
       "      <td>NC</td>\n",
       "      <td>33.916</td>\n",
       "    </tr>\n",
       "  </tbody>\n",
       "</table>\n",
       "</div>"
      ],
      "text/plain": [
       "  location  tuition_and_fees\n",
       "0       CA            40.191\n",
       "1       CA            39.518\n",
       "2       VA            45.066\n",
       "3       MI            43.476\n",
       "4       NC            33.916"
      ]
     },
     "execution_count": 12,
     "metadata": {},
     "output_type": "execute_result"
    }
   ],
   "source": [
    "df = public_universities_rankings[[\"location\", \"tuition_and_fees\"]]\n",
    "df.head()"
   ]
  },
  {
   "cell_type": "markdown",
   "metadata": {},
   "source": [
    "Grouping and Calculation of Mean\n",
    "---"
   ]
  },
  {
   "cell_type": "code",
   "execution_count": 13,
   "metadata": {
    "collapsed": false
   },
   "outputs": [
    {
     "data": {
      "text/html": [
       "<div>\n",
       "<style scoped>\n",
       "    .dataframe tbody tr th:only-of-type {\n",
       "        vertical-align: middle;\n",
       "    }\n",
       "\n",
       "    .dataframe tbody tr th {\n",
       "        vertical-align: top;\n",
       "    }\n",
       "\n",
       "    .dataframe thead th {\n",
       "        text-align: right;\n",
       "    }\n",
       "</style>\n",
       "<table border=\"1\" class=\"dataframe\">\n",
       "  <thead>\n",
       "    <tr style=\"text-align: right;\">\n",
       "      <th></th>\n",
       "      <th>location</th>\n",
       "      <th>tuition_and_fees</th>\n",
       "    </tr>\n",
       "  </thead>\n",
       "  <tbody>\n",
       "    <tr>\n",
       "      <th>0</th>\n",
       "      <td>AK</td>\n",
       "      <td>22.469000</td>\n",
       "    </tr>\n",
       "    <tr>\n",
       "      <th>1</th>\n",
       "      <td>AL</td>\n",
       "      <td>23.516500</td>\n",
       "    </tr>\n",
       "    <tr>\n",
       "      <th>2</th>\n",
       "      <td>AR</td>\n",
       "      <td>23.168000</td>\n",
       "    </tr>\n",
       "    <tr>\n",
       "      <th>3</th>\n",
       "      <td>AZ</td>\n",
       "      <td>27.741500</td>\n",
       "    </tr>\n",
       "    <tr>\n",
       "      <th>4</th>\n",
       "      <td>CA</td>\n",
       "      <td>34.623583</td>\n",
       "    </tr>\n",
       "  </tbody>\n",
       "</table>\n",
       "</div>"
      ],
      "text/plain": [
       "  location  tuition_and_fees\n",
       "0       AK         22.469000\n",
       "1       AL         23.516500\n",
       "2       AR         23.168000\n",
       "3       AZ         27.741500\n",
       "4       CA         34.623583"
      ]
     },
     "execution_count": 13,
     "metadata": {},
     "output_type": "execute_result"
    }
   ],
   "source": [
    "df_avg_tuition = df.groupby('location', as_index = False).mean()\n",
    "df_avg_tuition.head()"
   ]
  },
  {
   "cell_type": "markdown",
   "metadata": {},
   "source": [
    "Defination of Map Variable\n",
    "---"
   ]
  },
  {
   "cell_type": "code",
   "execution_count": 14,
   "metadata": {
    "collapsed": true
   },
   "outputs": [],
   "source": [
    "compressedMap = '/Users/Zhaokai/Downloads/PROJECT-master/PROJECT-master/tl_2010_us_state10/'"
   ]
  },
  {
   "cell_type": "code",
   "execution_count": 15,
   "metadata": {
    "collapsed": true
   },
   "outputs": [],
   "source": [
    "import geopandas as gpd\n",
    "usmap = gpd.GeoDataFrame.from_file(compressedMap)\n",
    "usmap['STUSPS10'] = usmap['STUSPS10'].astype(CategoricalDtype(ordered=True))"
   ]
  },
  {
   "cell_type": "code",
   "execution_count": 16,
   "metadata": {
    "collapsed": false
   },
   "outputs": [
    {
     "data": {
      "text/html": [
       "<div>\n",
       "<style scoped>\n",
       "    .dataframe tbody tr th:only-of-type {\n",
       "        vertical-align: middle;\n",
       "    }\n",
       "\n",
       "    .dataframe tbody tr th {\n",
       "        vertical-align: top;\n",
       "    }\n",
       "\n",
       "    .dataframe thead th {\n",
       "        text-align: right;\n",
       "    }\n",
       "</style>\n",
       "<table border=\"1\" class=\"dataframe\">\n",
       "  <thead>\n",
       "    <tr style=\"text-align: right;\">\n",
       "      <th></th>\n",
       "      <th>REGION10</th>\n",
       "      <th>DIVISION10</th>\n",
       "      <th>STATEFP10</th>\n",
       "      <th>STATENS10</th>\n",
       "      <th>GEOID10</th>\n",
       "      <th>STUSPS10</th>\n",
       "      <th>NAME10</th>\n",
       "      <th>LSAD10</th>\n",
       "      <th>MTFCC10</th>\n",
       "      <th>FUNCSTAT10</th>\n",
       "      <th>ALAND10</th>\n",
       "      <th>AWATER10</th>\n",
       "      <th>INTPTLAT10</th>\n",
       "      <th>INTPTLON10</th>\n",
       "      <th>geometry</th>\n",
       "    </tr>\n",
       "  </thead>\n",
       "  <tbody>\n",
       "    <tr>\n",
       "      <th>0</th>\n",
       "      <td>4</td>\n",
       "      <td>8</td>\n",
       "      <td>56</td>\n",
       "      <td>01779807</td>\n",
       "      <td>56</td>\n",
       "      <td>WY</td>\n",
       "      <td>Wyoming</td>\n",
       "      <td>00</td>\n",
       "      <td>G4000</td>\n",
       "      <td>A</td>\n",
       "      <td>251470069067</td>\n",
       "      <td>1864445306</td>\n",
       "      <td>+42.9918024</td>\n",
       "      <td>-107.5419255</td>\n",
       "      <td>POLYGON ((-108.621313 45.000277, -108.619726 4...</td>\n",
       "    </tr>\n",
       "    <tr>\n",
       "      <th>1</th>\n",
       "      <td>1</td>\n",
       "      <td>2</td>\n",
       "      <td>42</td>\n",
       "      <td>01779798</td>\n",
       "      <td>42</td>\n",
       "      <td>PA</td>\n",
       "      <td>Pennsylvania</td>\n",
       "      <td>00</td>\n",
       "      <td>G4000</td>\n",
       "      <td>A</td>\n",
       "      <td>115883064314</td>\n",
       "      <td>3397122731</td>\n",
       "      <td>+40.9042486</td>\n",
       "      <td>-077.8280624</td>\n",
       "      <td>POLYGON ((-80.519091 39.9622, -80.519097 39.96...</td>\n",
       "    </tr>\n",
       "    <tr>\n",
       "      <th>2</th>\n",
       "      <td>2</td>\n",
       "      <td>3</td>\n",
       "      <td>39</td>\n",
       "      <td>01085497</td>\n",
       "      <td>39</td>\n",
       "      <td>OH</td>\n",
       "      <td>Ohio</td>\n",
       "      <td>00</td>\n",
       "      <td>G4000</td>\n",
       "      <td>A</td>\n",
       "      <td>105828706692</td>\n",
       "      <td>10269012119</td>\n",
       "      <td>+40.4149297</td>\n",
       "      <td>-082.7119975</td>\n",
       "      <td>POLYGON ((-84.05270899999999 38.771226, -84.05...</td>\n",
       "    </tr>\n",
       "    <tr>\n",
       "      <th>3</th>\n",
       "      <td>4</td>\n",
       "      <td>8</td>\n",
       "      <td>35</td>\n",
       "      <td>00897535</td>\n",
       "      <td>35</td>\n",
       "      <td>NM</td>\n",
       "      <td>New Mexico</td>\n",
       "      <td>00</td>\n",
       "      <td>G4000</td>\n",
       "      <td>A</td>\n",
       "      <td>314160748240</td>\n",
       "      <td>756659673</td>\n",
       "      <td>+34.4391265</td>\n",
       "      <td>-106.1261511</td>\n",
       "      <td>POLYGON ((-109.046156 34.579291, -109.04616 34...</td>\n",
       "    </tr>\n",
       "    <tr>\n",
       "      <th>4</th>\n",
       "      <td>3</td>\n",
       "      <td>5</td>\n",
       "      <td>24</td>\n",
       "      <td>01714934</td>\n",
       "      <td>24</td>\n",
       "      <td>MD</td>\n",
       "      <td>Maryland</td>\n",
       "      <td>00</td>\n",
       "      <td>G4000</td>\n",
       "      <td>A</td>\n",
       "      <td>25141638381</td>\n",
       "      <td>6989579585</td>\n",
       "      <td>+38.9466584</td>\n",
       "      <td>-076.6744939</td>\n",
       "      <td>POLYGON ((-75.747761 39.143338, -75.747646 39....</td>\n",
       "    </tr>\n",
       "  </tbody>\n",
       "</table>\n",
       "</div>"
      ],
      "text/plain": [
       "  REGION10 DIVISION10 STATEFP10 STATENS10 GEOID10 STUSPS10        NAME10  \\\n",
       "0        4          8        56  01779807      56       WY       Wyoming   \n",
       "1        1          2        42  01779798      42       PA  Pennsylvania   \n",
       "2        2          3        39  01085497      39       OH          Ohio   \n",
       "3        4          8        35  00897535      35       NM    New Mexico   \n",
       "4        3          5        24  01714934      24       MD      Maryland   \n",
       "\n",
       "  LSAD10 MTFCC10 FUNCSTAT10       ALAND10     AWATER10   INTPTLAT10  \\\n",
       "0     00   G4000          A  251470069067   1864445306  +42.9918024   \n",
       "1     00   G4000          A  115883064314   3397122731  +40.9042486   \n",
       "2     00   G4000          A  105828706692  10269012119  +40.4149297   \n",
       "3     00   G4000          A  314160748240    756659673  +34.4391265   \n",
       "4     00   G4000          A   25141638381   6989579585  +38.9466584   \n",
       "\n",
       "     INTPTLON10                                           geometry  \n",
       "0  -107.5419255  POLYGON ((-108.621313 45.000277, -108.619726 4...  \n",
       "1  -077.8280624  POLYGON ((-80.519091 39.9622, -80.519097 39.96...  \n",
       "2  -082.7119975  POLYGON ((-84.05270899999999 38.771226, -84.05...  \n",
       "3  -106.1261511  POLYGON ((-109.046156 34.579291, -109.04616 34...  \n",
       "4  -076.6744939  POLYGON ((-75.747761 39.143338, -75.747646 39....  "
      ]
     },
     "execution_count": 16,
     "metadata": {},
     "output_type": "execute_result"
    }
   ],
   "source": [
    "usmap.head()"
   ]
  },
  {
   "cell_type": "markdown",
   "metadata": {},
   "source": [
    "Merging background map and data frame map to make a Choropleth Map\n",
    "---"
   ]
  },
  {
   "cell_type": "code",
   "execution_count": 17,
   "metadata": {
    "collapsed": false
   },
   "outputs": [
    {
     "name": "stdout",
     "output_type": "stream",
     "text": [
      "map states are:  ['WY', 'PA', 'OH', 'NM', 'MD'] ...\n",
      "df states are:  ['AK', 'AL', 'AR', 'AZ', 'CA'] ...\n"
     ]
    }
   ],
   "source": [
    "map_states = list(usmap.STUSPS10)\n",
    "df_states = list(df_avg_tuition.location)\n",
    "\n",
    "print(\"map states are: \", map_states[0:5], \"...\")\n",
    "print(\"df states are: \", df_states[0:5], \"...\")"
   ]
  },
  {
   "cell_type": "markdown",
   "metadata": {},
   "source": [
    "Notice df states have a space in the very front. This will lead to unsuccessful merge. The next cell we will take away the space in the datefame 'df'"
   ]
  },
  {
   "cell_type": "code",
   "execution_count": 18,
   "metadata": {
    "collapsed": true
   },
   "outputs": [],
   "source": [
    "panda_map = usmap.merge(df_avg_tuition, \n",
    "                    left_on = 'STUSPS10', right_on = 'location' )"
   ]
  },
  {
   "cell_type": "code",
   "execution_count": 20,
   "metadata": {
    "collapsed": false
   },
   "outputs": [
    {
     "data": {
      "text/plain": [
       "<matplotlib.axes._subplots.AxesSubplot at 0x2f949a1f470>"
      ]
     },
     "execution_count": 20,
     "metadata": {},
     "output_type": "execute_result"
    },
    {
     "data": {
      "image/png": "[encoded data removed]",
      "text/plain": [
       "<matplotlib.figure.Figure at 0x2f949cc1438>"
      ]
     },
     "metadata": {},
     "output_type": "display_data"
    }
   ],
   "source": [
    "base = usmap.plot(color='red',figsize=(100,100))\n",
    "\n",
    "panda_map.plot(ax=base,column='tuition_and_fees',cmap='YlGnBu',scheme='Quantiles',k=5,legend=True)"
   ]
  }
 ],
 "metadata": {
  "anaconda-cloud": {},
  "kernelspec": {
   "display_name": "Python [default]",
   "language": "python",
   "name": "python3"
  },
  "language_info": {
   "codemirror_mode": {
    "name": "ipython",
    "version": 3
   },
   "file_extension": ".py",
   "mimetype": "text/x-python",
   "name": "python",
   "nbconvert_exporter": "python",
   "pygments_lexer": "ipython3",
   "version": "3.5.5"
  }
 },
 "nbformat": 4,
 "nbformat_minor": 2
}
